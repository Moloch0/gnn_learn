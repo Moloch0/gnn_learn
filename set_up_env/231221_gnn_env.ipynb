{
 "cells": [
  {
   "cell_type": "markdown",
   "metadata": {},
   "source": [
    "PyTorch是一个深度学习框架，它有两个版本：CPU版本和GPU版本12。这两个版本的主要区别在于它们执行计算的硬件平台。\n",
    "\n",
    "CPU版本的PyTorch在CPU上执行所有计算2。这个版本适合那些没有GPU或者不需要使用GPU进行大规模计算的用户。\n",
    "\n",
    "GPU版本的PyTorch可以利用NVIDIA的CUDA平台，在GPU上执行计算。这个版本适合需要进行大规模并行计算以加速训练过程的用户。\n",
    "\n",
    "需要注意的是，如果你安装了GPU版本的PyTorch，你仍然可以选择在CPU上执行计算。但是，如果你只安装了CPU版本的PyTorch，那么你就不能在GPU上执行计算。"
   ]
  },
  {
   "cell_type": "code",
   "execution_count": null,
   "metadata": {},
   "outputs": [],
   "source": [
    "!conda create -n gnn_cuda121 pytorch torchvision torchaudio pytorch-cuda=12.1 -c pytorch -c nvidia"
   ]
  },
  {
   "cell_type": "markdown",
   "metadata": {},
   "source": [
    "ur if there’s an issue with the kernel.json file1. You can check the installed kernels and their locations by running jupyter kernelspec list in the Anaconda Prompt1. Make sure the python interpreter path in the kernel.json file matches the installation path of your environment’s python1."
   ]
  }
 ],
 "metadata": {
  "kernelspec": {
   "display_name": "py1",
   "language": "python",
   "name": "python3"
  },
  "language_info": {
   "codemirror_mode": {
    "name": "ipython",
    "version": 3
   },
   "file_extension": ".py",
   "mimetype": "text/x-python",
   "name": "python",
   "nbconvert_exporter": "python",
   "pygments_lexer": "ipython3",
   "version": "3.11.5"
  }
 },
 "nbformat": 4,
 "nbformat_minor": 2
}
